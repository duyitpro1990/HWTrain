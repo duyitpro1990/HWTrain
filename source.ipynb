{
 "cells": [
  {
   "cell_type": "code",
   "execution_count": 7,
   "metadata": {},
   "outputs": [],
   "source": [
    "import numpy as np\n",
    "import matplotlib.pyplot as plt\n",
    "import tensorflow.keras as keras\n",
    "import tensorflow as tf\n",
    "# import tensorflow.keras.layers as layers\n",
    "# import tensorflow.keras.models as models\n",
    "# import tensorflow.keras.optimizers as optimizers\n",
    "import os\n",
    "import cv2\n",
    "# from tensorflow.keras import backend as K\n",
    "# from tensorflow.keras import Sequential\n",
    "# from tensorflow.keras.layers import Conv2D, MaxPooling2D, Flatten, Dense,Dropout\n",
    "from sklearn.metrics import classification_report"
   ]
  },
  {
   "cell_type": "code",
   "execution_count": 8,
   "metadata": {},
   "outputs": [
    {
     "name": "stdout",
     "output_type": "stream",
     "text": [
      "Shape x_train:  (60000, 28, 28)\n",
      "Shape y_train:  (60000,)\n",
      "Shape x_test:  (10000, 28, 28)\n",
      "Shape y_test:  (10000,)\n"
     ]
    }
   ],
   "source": [
    "#load dataset \n",
    "mnist = tf.keras.datasets.mnist\n",
    "(x_train,y_train), (x_test,y_test) = mnist.load_data()\n",
    "print(\"Shape x_train: \", x_train.shape)\n",
    "print(\"Shape y_train: \", y_train.shape)\n",
    "print(\"Shape x_test: \", x_test.shape)\n",
    "print(\"Shape y_test: \", y_test.shape)"
   ]
  },
  {
   "cell_type": "code",
   "execution_count": 9,
   "metadata": {},
   "outputs": [
    {
     "data": {
      "image/png": "[encoded data removed]",
      "text/plain": [
       "<Figure size 640x480 with 1 Axes>"
      ]
     },
     "metadata": {},
     "output_type": "display_data"
    }
   ],
   "source": [
    "\n",
    "plt.imshow(x_train[1000],cmap='gray')\n",
    "plt.savefig('data1.png',bbox_inches='tight', pad_inches=0)"
   ]
  },
  {
   "cell_type": "code",
   "execution_count": 14,
   "metadata": {},
   "outputs": [
    {
     "name": "stdout",
     "output_type": "stream",
     "text": [
      "Epoch 1/10\n"
     ]
    },
    {
     "name": "stderr",
     "output_type": "stream",
     "text": [
      "c:\\NumberWritten\\.venv\\Lib\\site-packages\\keras\\src\\layers\\convolutional\\base_conv.py:107: UserWarning: Do not pass an `input_shape`/`input_dim` argument to a layer. When using Sequential models, prefer using an `Input(shape)` object as the first layer in the model instead.\n",
      "  super().__init__(activity_regularizer=activity_regularizer, **kwargs)\n"
     ]
    },
    {
     "name": "stdout",
     "output_type": "stream",
     "text": [
      "235/235 - 14s - 58ms/step - accuracy: 0.1116 - loss: 3.3447 - val_accuracy: 0.1135 - val_loss: 2.3013\n",
      "Epoch 2/10\n",
      "235/235 - 11s - 49ms/step - accuracy: 0.1117 - loss: 2.3016 - val_accuracy: 0.1135 - val_loss: 2.3013\n",
      "Epoch 3/10\n",
      "235/235 - 11s - 49ms/step - accuracy: 0.1124 - loss: 2.3016 - val_accuracy: 0.1135 - val_loss: 2.3011\n",
      "Epoch 4/10\n",
      "235/235 - 12s - 52ms/step - accuracy: 0.1124 - loss: 2.3017 - val_accuracy: 0.1135 - val_loss: 2.3012\n",
      "Epoch 5/10\n",
      "235/235 - 12s - 49ms/step - accuracy: 0.1124 - loss: 2.3017 - val_accuracy: 0.1135 - val_loss: 2.3013\n",
      "Epoch 6/10\n",
      "235/235 - 12s - 49ms/step - accuracy: 0.1124 - loss: 2.3018 - val_accuracy: 0.1135 - val_loss: 2.3012\n",
      "Epoch 7/10\n",
      "235/235 - 11s - 49ms/step - accuracy: 0.1120 - loss: 2.3019 - val_accuracy: 0.1135 - val_loss: 2.3011\n",
      "Epoch 8/10\n",
      "235/235 - 12s - 52ms/step - accuracy: 0.1124 - loss: 2.3018 - val_accuracy: 0.1135 - val_loss: 2.3012\n",
      "Epoch 9/10\n",
      "235/235 - 12s - 51ms/step - accuracy: 0.1124 - loss: 2.3016 - val_accuracy: 0.1135 - val_loss: 2.3012\n",
      "Epoch 10/10\n",
      "235/235 - 12s - 50ms/step - accuracy: 0.1113 - loss: 2.3016 - val_accuracy: 0.1135 - val_loss: 2.3015\n"
     ]
    },
    {
     "data": {
      "text/plain": [
       "<keras.src.callbacks.history.History at 0x2312e3174d0>"
      ]
     },
     "execution_count": 14,
     "metadata": {},
     "output_type": "execute_result"
    }
   ],
   "source": [
    "#build model\n",
    "def MyCNN_model():\n",
    "    model = keras.Sequential()\n",
    "    model.add(keras.layers.Conv2D(64,(5,5),input_shape=(28,28,1),activation='relu'))\n",
    "    model.add(keras.layers.MaxPooling2D(2,2))\n",
    "    model.add(keras.layers.Dropout(0.25))\n",
    "    model.add(keras.layers.Conv2D(32, (3,3), activation='relu'))\n",
    "    model.add(keras.layers.MaxPooling2D(2,2))\n",
    "    model.add(keras.layers.Dropout(0.25))\n",
    "    model.add(keras.layers.Flatten())\n",
    "    \n",
    "    model.add(keras.layers.Dense(375, activation='relu'))\n",
    "    model.add(keras.layers.Dropout(0.25))\n",
    "    model.add(keras.layers.Dense(225, activation='relu'))\n",
    "    model.add(keras.layers.Dropout(0.25))\n",
    "    model.add(keras.layers.Dense(135, activation='relu'))\n",
    "    model.add(keras.layers.Dropout(0.25))\n",
    "    model.add(keras.layers.Dense(10, activation='softmax'))\n",
    "    \n",
    "    \n",
    "    model.compile(optimizer=keras.optimizers.Adam(learning_rate=0.01),loss='sparse_categorical_crossentropy', metrics=['accuracy'])\n",
    "    return model \n",
    "model =MyCNN_model()\n",
    "model.fit(x_train, y_train, validation_data = (x_test, y_test), epochs=10, batch_size=256, verbose=2)\n",
    "# model = Sequential(\n",
    "#     [Conv2D(32,(3,3),activation='relu',input_shape=(28,28,1)),\n",
    "#     MaxPooling2D(2,2),\n",
    "#     Conv2D(64,(3,3),activation='relu'),\n",
    "#     MaxPooling2D(2,2),\n",
    "#     Flatten(),\n",
    "#     Dense(128,activation='relu'),\n",
    "#     Dropout(0.5),\n",
    "#     Dense(10,activation='softmax'),]\n",
    "# )\n",
    "# model.compile(optimizer='adam',loss='sparse_categorical_crossentropy', metrics=['accuracy'])\n",
    "# model.fit(x_train.reshape(-1,28,28,1), y_train, epochs=10)"
   ]
  },
  {
   "cell_type": "code",
   "execution_count": 15,
   "metadata": {},
   "outputs": [
    {
     "name": "stdout",
     "output_type": "stream",
     "text": [
      "\u001b[1m313/313\u001b[0m \u001b[32m━━━━━━━━━━━━━━━━━━━━\u001b[0m\u001b[37m\u001b[0m \u001b[1m1s\u001b[0m 2ms/step\n",
      "              precision    recall  f1-score   support\n",
      "\n",
      "           0       0.00      0.00      0.00         0\n",
      "           1       1.00      0.11      0.20     10000\n",
      "           2       0.00      0.00      0.00         0\n",
      "           3       0.00      0.00      0.00         0\n",
      "           4       0.00      0.00      0.00         0\n",
      "           5       0.00      0.00      0.00         0\n",
      "           6       0.00      0.00      0.00         0\n",
      "           7       0.00      0.00      0.00         0\n",
      "           8       0.00      0.00      0.00         0\n",
      "           9       0.00      0.00      0.00         0\n",
      "\n",
      "    accuracy                           0.11     10000\n",
      "   macro avg       0.10      0.01      0.02     10000\n",
      "weighted avg       1.00      0.11      0.20     10000\n",
      "\n"
     ]
    },
    {
     "name": "stderr",
     "output_type": "stream",
     "text": [
      "c:\\NumberWritten\\.venv\\Lib\\site-packages\\sklearn\\metrics\\_classification.py:1565: UndefinedMetricWarning: Recall is ill-defined and being set to 0.0 in labels with no true samples. Use `zero_division` parameter to control this behavior.\n",
      "  _warn_prf(average, modifier, f\"{metric.capitalize()} is\", len(result))\n",
      "c:\\NumberWritten\\.venv\\Lib\\site-packages\\sklearn\\metrics\\_classification.py:1565: UndefinedMetricWarning: Recall is ill-defined and being set to 0.0 in labels with no true samples. Use `zero_division` parameter to control this behavior.\n",
      "  _warn_prf(average, modifier, f\"{metric.capitalize()} is\", len(result))\n",
      "c:\\NumberWritten\\.venv\\Lib\\site-packages\\sklearn\\metrics\\_classification.py:1565: UndefinedMetricWarning: Recall is ill-defined and being set to 0.0 in labels with no true samples. Use `zero_division` parameter to control this behavior.\n",
      "  _warn_prf(average, modifier, f\"{metric.capitalize()} is\", len(result))\n"
     ]
    }
   ],
   "source": [
    "#Evaluate the model\n",
    "pred = np.argmax(model.predict(x_test), axis=1)\n",
    "print(classification_report(pred,y_test))"
   ]
  },
  {
   "cell_type": "code",
   "execution_count": 16,
   "metadata": {},
   "outputs": [
    {
     "name": "stderr",
     "output_type": "stream",
     "text": [
      "WARNING:absl:You are saving your model as an HDF5 file via `model.save()` or `keras.saving.save_model(model)`. This file format is considered legacy. We recommend using instead the native Keras format, e.g. `model.save('my_model.keras')` or `keras.saving.save_model(model, 'my_model.keras')`. \n"
     ]
    }
   ],
   "source": [
    "#Save\n",
    "model.save(\"HWRModel.hdf5\")"
   ]
  },
  {
   "cell_type": "code",
   "execution_count": 18,
   "metadata": {},
   "outputs": [
    {
     "name": "stderr",
     "output_type": "stream",
     "text": [
      "WARNING:absl:Compiled the loaded model, but the compiled metrics have yet to be built. `model.compile_metrics` will be empty until you train or evaluate the model.\n"
     ]
    }
   ],
   "source": [
    "#load\n",
    "loaded_model = keras.models.load_model(\"HWRModel.hdf5\")"
   ]
  },
  {
   "cell_type": "code",
   "execution_count": 19,
   "metadata": {},
   "outputs": [
    {
     "name": "stdout",
     "output_type": "stream",
     "text": [
      "(112, 112)\n",
      "\u001b[1m1/1\u001b[0m \u001b[32m━━━━━━━━━━━━━━━━━━━━\u001b[0m\u001b[37m\u001b[0m \u001b[1m0s\u001b[0m 82ms/step\n",
      "Image 1 prediction: 1\n"
     ]
    },
    {
     "data": {
      "image/png": "[encoded data removed]",
      "text/plain": [
       "<Figure size 640x480 with 1 Axes>"
      ]
     },
     "metadata": {},
     "output_type": "display_data"
    }
   ],
   "source": [
    "i=1\n",
    "while os.path.exists(f'img/data{i}.png'):\n",
    "    img = cv2.imread(f'img/data{i}.png', cv2.IMREAD_GRAYSCALE)\n",
    "    print(img.shape)\n",
    "    img = cv2.resize(img, (28, 28))\n",
    "    img = np.invert(np.array(img))\n",
    "    img = np.reshape(img, (1, 28, 28, 1))\n",
    "    pred = loaded_model.predict(img)\n",
    "    print(f'Image {i} prediction: {np.argmax(pred)}')\n",
    "    plt.imshow(img.squeeze(), cmap='gray')\n",
    "    plt.show()\n",
    "    i += 1"
   ]
  }
 ],
 "metadata": {
  "kernelspec": {
   "display_name": ".venv",
   "language": "python",
   "name": "python3"
  },
  "language_info": {
   "codemirror_mode": {
    "name": "ipython",
    "version": 3
   },
   "file_extension": ".py",
   "mimetype": "text/x-python",
   "name": "python",
   "nbconvert_exporter": "python",
   "pygments_lexer": "ipython3",
   "version": "3.11.5"
  }
 },
 "nbformat": 4,
 "nbformat_minor": 2
}
